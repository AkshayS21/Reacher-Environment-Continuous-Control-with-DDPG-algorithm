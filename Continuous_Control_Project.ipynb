{
 "cells": [
  {
   "cell_type": "markdown",
   "metadata": {},
   "source": [
    "# Continuous Control\n",
    "\n",
    "---\n",
    "\n",
    "You are welcome to use this coding environment to train your agent for the project.  Follow the instructions below to get started!\n",
    "\n",
    "### 1. Start the Environment\n",
    "\n",
    "Run the next code cell to install a few packages.  This line will take a few minutes to run!"
   ]
  },
  {
   "cell_type": "code",
   "execution_count": 1,
   "metadata": {},
   "outputs": [],
   "source": [
    "!pip -q install ./python"
   ]
  },
  {
   "cell_type": "markdown",
   "metadata": {},
   "source": [
    "The environments corresponding to both versions of the environment are already saved in the Workspace and can be accessed at the file paths provided below.  \n",
    "\n",
    "Please select one of the two options below for loading the environment."
   ]
  },
  {
   "cell_type": "code",
   "execution_count": 2,
   "metadata": {},
   "outputs": [
    {
     "name": "stderr",
     "output_type": "stream",
     "text": [
      "INFO:unityagents:\n",
      "'Academy' started successfully!\n",
      "Unity Academy name: Academy\n",
      "        Number of Brains: 1\n",
      "        Number of External Brains : 1\n",
      "        Lesson number : 0\n",
      "        Reset Parameters :\n",
      "\t\tgoal_speed -> 1.0\n",
      "\t\tgoal_size -> 5.0\n",
      "Unity brain name: ReacherBrain\n",
      "        Number of Visual Observations (per agent): 0\n",
      "        Vector Observation space type: continuous\n",
      "        Vector Observation space size (per agent): 33\n",
      "        Number of stacked Vector Observation: 1\n",
      "        Vector Action space type: continuous\n",
      "        Vector Action space size (per agent): 4\n",
      "        Vector Action descriptions: , , , \n"
     ]
    }
   ],
   "source": [
    "from unityagents import UnityEnvironment\n",
    "import numpy as np\n",
    "\n",
    "# select this option to load version 1 (with a single agent) of the environment\n",
    "#env = UnityEnvironment(file_name='/data/Reacher_One_Linux_NoVis/Reacher_One_Linux_NoVis.x86_64')\n",
    "\n",
    "# select this option to load version 2 (with 20 agents) of the environment\n",
    "env = UnityEnvironment(file_name='/data/Reacher_Linux_NoVis/Reacher.x86_64')"
   ]
  },
  {
   "cell_type": "markdown",
   "metadata": {},
   "source": [
    "Environments contain **_brains_** which are responsible for deciding the actions of their associated agents. Here we check for the first brain available, and set it as the default brain we will be controlling from Python."
   ]
  },
  {
   "cell_type": "code",
   "execution_count": 3,
   "metadata": {},
   "outputs": [],
   "source": [
    "# get the default brain\n",
    "brain_name = env.brain_names[0]\n",
    "brain = env.brains[brain_name]"
   ]
  },
  {
   "cell_type": "markdown",
   "metadata": {},
   "source": [
    "### 2. Examine the State and Action Spaces\n",
    "\n",
    "Run the code cell below to print some information about the environment."
   ]
  },
  {
   "cell_type": "markdown",
   "metadata": {},
   "source": [
    "# reset the environment\n",
    "env_info = env.reset(train_mode=True)[brain_name]\n",
    "\n",
    "# number of agents\n",
    "num_agents = len(env_info.agents)\n",
    "print('Number of agents:', num_agents)\n",
    "\n",
    "# size of each action\n",
    "action_size = brain.vector_action_space_size\n",
    "print('Size of each action:', action_size)\n",
    "\n",
    "# examine the state space \n",
    "states = env_info.vector_observations\n",
    "state_size = states.shape[1]\n",
    "print('There are {} agents. Each observes a state with length: {}'.format(states.shape[0], state_size))\n",
    "print('The state for the first agent looks like:', states[0])"
   ]
  },
  {
   "cell_type": "markdown",
   "metadata": {},
   "source": [
    "### 3. Take Random Actions in the Environment\n",
    "\n",
    "In the next code cell, you will learn how to use the Python API to control the agent and receive feedback from the environment.\n",
    "\n",
    "Note that **in this coding environment, you will not be able to watch the agents while they are training**, and you should set `train_mode=True` to restart the environment."
   ]
  },
  {
   "cell_type": "code",
   "execution_count": null,
   "metadata": {},
   "outputs": [],
   "source": [
    "env_info = env.reset(train_mode=True)[brain_name]      # reset the environment    \n",
    "states = env_info.vector_observations                  # get the current state (for each agent)\n",
    "scores = np.zeros(num_agents)                          # initialize the score (for each agent)\n",
    "while True:\n",
    "    actions = np.random.randn(num_agents, action_size) # select an action (for each agent)\n",
    "    actions = np.clip(actions, -1, 1)                  # all actions between -1 and 1\n",
    "    env_info = env.step(actions)[brain_name]           # send all actions to tne environment\n",
    "    next_states = env_info.vector_observations         # get next state (for each agent)\n",
    "    rewards = env_info.rewards                         # get reward (for each agent)\n",
    "    dones = env_info.local_done                        # see if episode finished\n",
    "    scores += env_info.rewards                         # update the score (for each agent)\n",
    "    states = next_states                               # roll over states to next time step\n",
    "    if np.any(dones):                                  # exit loop if episode finished\n",
    "        break\n",
    "print('Total score (averaged over agents) this episode: {}'.format(np.mean(scores)))"
   ]
  },
  {
   "cell_type": "markdown",
   "metadata": {},
   "source": [
    "When finished, you can close the environment."
   ]
  },
  {
   "cell_type": "markdown",
   "metadata": {},
   "source": [
    "env.close()"
   ]
  },
  {
   "cell_type": "markdown",
   "metadata": {},
   "source": [
    "### 4. It's Your Turn!\n",
    "\n",
    "Now it's your turn to train your own agent to solve the environment!  A few **important notes**:\n",
    "- When training the environment, set `train_mode=True`, so that the line for resetting the environment looks like the following:\n",
    "```python\n",
    "env_info = env.reset(train_mode=True)[brain_name]\n",
    "```\n",
    "- To structure your work, you're welcome to work directly in this Jupyter notebook, or you might like to start over with a new file!  You can see the list of files in the workspace by clicking on **_Jupyter_** in the top left corner of the notebook.\n",
    "- In this coding environment, you will not be able to watch the agents while they are training.  However, **_after training the agents_**, you can download the saved model weights to watch the agents on your own machine! "
   ]
  },
  {
   "cell_type": "markdown",
   "metadata": {},
   "source": [
    "## Model"
   ]
  },
  {
   "cell_type": "code",
   "execution_count": 4,
   "metadata": {},
   "outputs": [],
   "source": [
    "fc1_units = 512  #128 ## 64\n",
    "fc2_units = 256  #64 #32\n",
    "fc3_units = 64\n",
    "#fc4 is 16 by default\n",
    "lr_actor = 1e-3\n",
    "lr_critic = 1e-3\n",
    "buffer_size = int(1e6)\n",
    "batch_size = 64 # 128\n",
    "Gamma = 0.999\n",
    "tau = 0.001\n"
   ]
  },
  {
   "cell_type": "code",
   "execution_count": null,
   "metadata": {},
   "outputs": [],
   "source": []
  },
  {
   "cell_type": "code",
   "execution_count": 5,
   "metadata": {},
   "outputs": [],
   "source": [
    "import torch\n",
    "import torch.nn as nn\n",
    "import torch.nn.functional as F\n",
    "\n",
    "import numpy as np\n",
    "\n",
    "\n",
    "\n",
    "\n",
    "def layer_init(self):\n",
    "    in_w = self.weight.data.size()[0]\n",
    "    lim = 1./(np.sqrt(in_w))\n",
    "    return (-lim,lim)\n",
    "\n",
    "\n",
    "class Actor(nn.Module):\n",
    "    ## Module is base class for all neural networks\n",
    "    \n",
    "    \"\"\" Define the class for Actor netorks to be used in the model\n",
    "    \n",
    "    Parameters:\n",
    "    state_size, action_size, seed,fc1_units, fc2_units \n",
    "    all int.\n",
    "    \n",
    "    \"\"\"\n",
    "    def __init__(self, state_size, action_size, seed,fc1_units = fc1_units , fc2_units = fc2_units, fc3_units = fc3_units):        \n",
    "        super(Actor,self).__init__()\n",
    "        ## just writing super() also enough    \n",
    "        self.fc1 = nn.Linear(state_size, fc1_units)\n",
    "        self.fc2 = nn.Linear(fc1_units, fc2_units)\n",
    "        self.fc3 = nn.Linear(fc2_units,fc3_units)\n",
    "        self.fc4 = nn.Linear(fc3_units,16)\n",
    "        self.fc5 = nn.Linear(16,action_size)\n",
    "        self.seed = torch.manual_seed(seed)\n",
    "        self.reset_parameters()\n",
    "        \n",
    "    def forward(self, state):\n",
    "        \n",
    "        x = F.relu(self.fc1(state))\n",
    "        x = F.relu(self.fc2(x))\n",
    "        x = F.relu(self.fc3(x))\n",
    "        x = F.relu(self.fc4(x))\n",
    "        \n",
    "        x =torch.tanh(self.fc5(x))\n",
    "        return x\n",
    "    \n",
    "    def reset_parameters(self):\n",
    "        \n",
    "        self.fc1.weight.data.uniform_(*layer_init(self.fc1))\n",
    "        self.fc2.weight.data.uniform_(*layer_init(self.fc2))\n",
    "        self.fc3.weight.data.uniform_(*layer_init(self.fc3))\n",
    "        self.fc4.weight.data.uniform_(*layer_init(self.fc4))\n",
    "        self.fc5.weight.data.uniform_(-3e-3,3e-3)\n",
    "        ### also try just using the reset_parameters()method of layers      \n",
    "    \n",
    "    \n",
    "class Critic(nn.Module):\n",
    "    \"\"\"\n",
    "    Define the class for Critic netorks to be used in the model\n",
    "    \n",
    "    Parameters:\n",
    "    state_size, action_size, seed,fc1_units, fc2_units \n",
    "    all int.\n",
    "    \n",
    "    \"\"\"\n",
    "    \n",
    "    def __init__(self, state_size, action_size, seed,fc1_units = fc1_units, fc2_units = fc2_units , fc3_units = fc3_units):\n",
    "        super(Critic,self).__init__()\n",
    "        ## just writing super() also enough  \n",
    "        \n",
    "        self.fc1 = nn.Linear(state_size, fc1_units)\n",
    "        self.fc2 = nn.Linear(fc1_units + action_size, fc2_units)\n",
    "        self.fc3 = nn.Linear(fc2_units,fc3_units)\n",
    "        self.fc4 = nn.Linear(fc3_units,16)\n",
    "        self.fc5 = nn.Linear(16,1)\n",
    "        \n",
    "        self.seed = torch.manual_seed(seed)\n",
    "        self.reset_parameters()\n",
    "        \n",
    "    def forward(self, state, action):\n",
    "        \n",
    "        xst = F.relu(self.fc1(state))\n",
    "        x =torch.cat((xst, action), dim = 1) ## concatenate along dimension 1 (columns)\n",
    "        x = F.relu(self.fc2(x))\n",
    "        x = F.relu(self.fc3(x))\n",
    "        x = F.relu(self.fc4(x))\n",
    "        x = self.fc5(x)\n",
    "        return x\n",
    "    \n",
    "    def reset_parameters(self):\n",
    "        \n",
    "        self.fc1.weight.data.uniform_(*layer_init(self.fc1))\n",
    "        self.fc2.weight.data.uniform_(*layer_init(self.fc2))\n",
    "        self.fc3.weight.data.uniform_(*layer_init(self.fc3))\n",
    "        self.fc4.weight.data.uniform_(*layer_init(self.fc4))\n",
    "        self.fc5.weight.data.uniform_(-3e-3,3e-3)\n",
    "        ### also try just using the reset_parameters()method of layers      \n",
    "    \n",
    "    \n",
    "        "
   ]
  },
  {
   "cell_type": "code",
   "execution_count": 6,
   "metadata": {},
   "outputs": [],
   "source": [
    "import torch\n",
    "import torch.nn as nn\n",
    "import torch.nn.functional as F\n",
    "import torch.optim as optim\n",
    "\n",
    "import copy\n",
    "from collections import namedtuple, deque\n",
    "\n",
    "import numpy as np\n",
    "\n",
    "import random\n",
    "\n",
    "\n",
    "\n",
    "\n",
    "device = torch.device('cuda:0' if torch.cuda.is_available() else 'cpu')\n",
    "\n",
    "\n",
    "\n",
    "class OUNoise:\n",
    "    \"\"\"Ornstein-Uhlenbeck process.\"\"\"\n",
    "\n",
    "    def __init__(self, size, seed, mu=0., theta=0.15, sigma=0.2):\n",
    "        \n",
    "        \"\"\"Initialize parameters and noise process.\"\"\"\n",
    "        self.size = size\n",
    "        self.mu = mu * np.ones(size)\n",
    "        self.theta = theta\n",
    "        self.sigma = sigma\n",
    "        self.seed = random.seed(seed)\n",
    "        self.reset()\n",
    "\n",
    "    def reset(self):\n",
    "        \"\"\"Reset the internal state (= noise) to mean (mu).\"\"\"\n",
    "        self.int_noise = copy.copy(self.mu) ## internal noise\n",
    "\n",
    "    def sample(self):\n",
    "        \"\"\"Update internal state and return it as a noise sample.\"\"\"\n",
    "        x = self.int_noise\n",
    "        dx = self.theta * (self.mu - x) + self.sigma * np.random.standard_normal(self.size)\n",
    "        #dx = self.theta * (self.mu - x) + self.sigma * np.array([random.random() for i in range(len(x))])\n",
    "        self.int_noise = x + dx\n",
    "        return self.int_noise\n",
    "\n",
    "class Replay_Buffer:\n",
    "    \"\"\"Fixed-size buffer to store experience tuples.\"\"\"\n",
    "\n",
    "    def __init__(self, action_size, buffer_size, batch_size, seed):\n",
    "        \"\"\"Initialize a ReplayBuffer object.\n",
    "        Params\n",
    "        ======\n",
    "            buffer_size (int): maximum size of buffer\n",
    "            batch_size (int): size of each training batch\n",
    "        \"\"\"\n",
    "        self.action_size = action_size\n",
    "        self.memory = deque(maxlen=buffer_size)  # internal memory (deque)\n",
    "        self.batch_size = batch_size\n",
    "        self.experience = namedtuple(\"Experience\", field_names=[\"state\", \"action\", \"reward\", \"next_state\", \"done\"])\n",
    "        self.seed = random.seed(seed)\n",
    "    \n",
    "    def add(self, state, action, reward, next_state, done):\n",
    "        \"\"\"Add a new experience to memory.\"\"\"\n",
    "        e = self.experience(state, action, reward, next_state, done)\n",
    "        self.memory.append(e)\n",
    "    \n",
    "    def sample(self):\n",
    "        \"\"\"Randomly sample a batch of experiences from memory.\"\"\"\n",
    "        experiences = random.sample(self.memory, k=self.batch_size)\n",
    "\n",
    "        states = torch.from_numpy(np.vstack([e.state for e in experiences if e is not None])).float().to(device)\n",
    "        actions = torch.from_numpy(np.vstack([e.action for e in experiences if e is not None])).float().to(device)\n",
    "        rewards = torch.from_numpy(np.vstack([e.reward for e in experiences if e is not None])).float().to(device)\n",
    "        next_states = torch.from_numpy(np.vstack([e.next_state for e in experiences if e is not None])).float().to(device)\n",
    "        dones = torch.from_numpy(np.vstack([e.done for e in experiences if e is not None]).astype(np.uint8)).float().to(device)\n",
    "\n",
    "        return (states, actions, rewards, next_states, dones)\n",
    "\n",
    "    def __len__(self):\n",
    "        \"\"\"Return the current size of internal memory.\"\"\"\n",
    "        return len(self.memory)"
   ]
  },
  {
   "cell_type": "code",
   "execution_count": 7,
   "metadata": {},
   "outputs": [],
   "source": [
    "import torch\n",
    "import torch.nn as nn\n",
    "import torch.nn.functional as F\n",
    "import torch.optim as optim\n",
    "\n",
    "import copy\n",
    "from collections import namedtuple, deque\n",
    "\n",
    "import numpy as np\n",
    "\n",
    "import random\n",
    "\n",
    "\n",
    "\n",
    "\n",
    "\n",
    "device = torch.device('cuda:0' if torch.cuda.is_available() else 'cpu')\n",
    "class Agent():\n",
    "    \n",
    "    def __init__(self, n_agents, state_size, action_size, random_seed):\n",
    "        \n",
    "        self.n_agents = n_agents\n",
    "        self.state_size = state_size\n",
    "        self.action_size = action_size\n",
    "        \n",
    "        # Actor networks local and target\n",
    "        self.actor_local = Actor(state_size, action_size, random_seed).to(device)\n",
    "        self.actor_target = Actor(state_size, action_size, random_seed).to(device)\n",
    "        self.actor_optimizer = optim.Adam(self.actor_local.parameters(), lr = lr_actor)\n",
    "        \n",
    "        ## Critic networks, local and target\n",
    "        self.critic_local = Critic(state_size, action_size, random_seed).to(device)\n",
    "        self.critic_target = Critic(state_size, action_size, random_seed).to(device)\n",
    "        self.critic_optimizer = optim.Adam(self.critic_local.parameters(), lr = lr_critic)\n",
    "        \n",
    "        self.noise = OUNoise((n_agents,action_size), random_seed)\n",
    "        \n",
    "        self.memory = Replay_Buffer(action_size, buffer_size, batch_size, random_seed)\n",
    "        \n",
    "    ## based on the random state generated by the environment, our agent will generate \n",
    "    ## an action, by passing the state thru the actor_local network\n",
    "    \n",
    "    def act(self,state, add_noise = True):\n",
    "        \n",
    "        state = torch.from_numpy(state).float().to(device) # convert state from numpy array to a tensor\n",
    "        \n",
    "        self.actor_local.eval() ## put network in evaluation mode, no trainig\n",
    "        \n",
    "        with torch.no_grad():\n",
    "            action = self.actor_local(state).cpu().data.numpy() # \n",
    "            #get action, push data to cpu and convert to numpy array, for the gym env \n",
    "            \n",
    "        self.actor_local.train()\n",
    "        ## put the network in trainig mode for learn part\n",
    "        \n",
    "        if add_noise:\n",
    "            action += self.noise.sample()\n",
    "            action = np.clip(action, -1,1)\n",
    "        return action\n",
    "    \n",
    "    ## The action generated by the actor_local network will be passed to the env.step() function\n",
    "    ## to generate next_state, rewards, done.. The agent will then add these to the memory as experiences\n",
    "    ## and if we have enough experiences(>128),  the agent will sample and learn from them\n",
    "    \n",
    "    def step(self, state, action, reward, next_state, done):\n",
    "        \n",
    "        for i in range(self.n_agents):\n",
    "            self.memory.add(state[i,:], action[i,:], reward[i], next_state[i,:], done[i])\n",
    "        \n",
    "        #self.memory.add(state, action, reward, next_state, done)\n",
    "        \n",
    "        if len(self.memory) > batch_size:\n",
    "            experiences = self.memory.sample()\n",
    "            self.learn(experiences, Gamma)\n",
    "            \n",
    "    \n",
    "    def learn(self, experiences, Gamma):\n",
    "        \n",
    "        states, actions, rewards, next_states, dones = experiences\n",
    "        \n",
    "        ### Get Q_target for next_states to compute Q_target for current state\n",
    "        \n",
    "        actions_next = self.actor_target(next_states)\n",
    "        Q_targets_next = self.critic_target(next_states, actions_next)\n",
    "        \n",
    "        Q_targets = rewards + (Gamma * Q_targets_next * (1-dones))\n",
    "        \n",
    "        ### Compute the actual Q_target based on current critic_local network\n",
    "        \n",
    "        Q_expecteds = self.critic_local(states, actions)\n",
    "        \n",
    "        Q_loss = F.mse_loss(Q_expecteds, Q_targets)\n",
    "        \n",
    "        self.critic_optimizer.zero_grad()\n",
    "        Q_loss.backward()\n",
    "        torch.nn.utils.clip_grad_norm(self.critic_local.parameters(), 1)\n",
    "        self.critic_optimizer.step()\n",
    "        \n",
    "        ### We want to train the actor_local such that it maximizes the value Q\n",
    "        \n",
    "        actions_pred = self.actor_local(states)\n",
    "        Q_value = - self.critic_local(states, actions_pred).mean()\n",
    "        \n",
    "        self.actor_optimizer.zero_grad()\n",
    "        Q_value.backward()\n",
    "        self.actor_optimizer.step()\n",
    "        \n",
    "        ### soft update target params\n",
    "        \n",
    "        self.soft_update( self.actor_local, self.actor_target, tau)\n",
    "        self.soft_update( self.critic_local, self.critic_target, tau)       \n",
    "    \n",
    "    def soft_update(self, local_model, target_model, tau):\n",
    "        \n",
    "        for target_params,local_params in zip(target_model.parameters(), local_model.parameters()):\n",
    "            target_params.data.copy_( tau * local_params.data + (1-tau) * target_params.data)\n",
    "    \n",
    "    def reset(self):\n",
    "        self.noise.reset()\n",
    "    \n",
    "            \n",
    "            "
   ]
  },
  {
   "cell_type": "code",
   "execution_count": null,
   "metadata": {},
   "outputs": [],
   "source": []
  },
  {
   "cell_type": "code",
   "execution_count": 8,
   "metadata": {},
   "outputs": [
    {
     "name": "stdout",
     "output_type": "stream",
     "text": [
      "Number of agents: 20\n",
      "Size of each action: 4\n",
      "There are 20 agents. Each observes a state with length: 33\n",
      "The state for the first agent looks like: [  0.00000000e+00  -4.00000000e+00   0.00000000e+00   1.00000000e+00\n",
      "  -0.00000000e+00  -0.00000000e+00  -4.37113883e-08   0.00000000e+00\n",
      "   0.00000000e+00   0.00000000e+00   0.00000000e+00   0.00000000e+00\n",
      "   0.00000000e+00   0.00000000e+00  -1.00000000e+01   0.00000000e+00\n",
      "   1.00000000e+00  -0.00000000e+00  -0.00000000e+00  -4.37113883e-08\n",
      "   0.00000000e+00   0.00000000e+00   0.00000000e+00   0.00000000e+00\n",
      "   0.00000000e+00   0.00000000e+00   5.75471878e+00  -1.00000000e+00\n",
      "   5.55726624e+00   0.00000000e+00   1.00000000e+00   0.00000000e+00\n",
      "  -1.68164849e-01]\n"
     ]
    }
   ],
   "source": [
    "# reset the environment\n",
    "env_info = env.reset(train_mode=True)[brain_name]\n",
    "\n",
    "# number of agents\n",
    "num_agents = len(env_info.agents)\n",
    "print('Number of agents:', num_agents)\n",
    "\n",
    "# size of each action\n",
    "action_size = brain.vector_action_space_size\n",
    "print('Size of each action:', action_size)\n",
    "\n",
    "# examine the state space \n",
    "states = env_info.vector_observations\n",
    "state_size = states.shape[1]\n",
    "print('There are {} agents. Each observes a state with length: {}'.format(states.shape[0], state_size))\n",
    "print('The state for the first agent looks like:', states[0])"
   ]
  },
  {
   "cell_type": "code",
   "execution_count": 9,
   "metadata": {},
   "outputs": [],
   "source": [
    "fc1_units = 512 #512  #128 ## 64\n",
    "fc2_units = 256 #256  #64 #32\n",
    "fc3_units = 64\n",
    "#fc4 is 16 by default\n",
    "lr_actor = 1e-4\n",
    "lr_critic = 1e-4\n",
    "buffer_size = int(1e6)\n",
    "batch_size = 128 # 128\n",
    "Gamma = 0.99\n",
    "tau = 0.001\n"
   ]
  },
  {
   "cell_type": "code",
   "execution_count": 10,
   "metadata": {},
   "outputs": [],
   "source": [
    "agent = Agent(n_agents = 20,state_size = 33, action_size = 4, random_seed = 2)\n"
   ]
  },
  {
   "cell_type": "markdown",
   "metadata": {},
   "source": [
    "env_info = env.reset(train_mode=True)[brain_name]      # reset the environment    \n",
    "states = env_info.vector_observations                  # get the current state (for each agent)\n",
    "scores = np.zeros(num_agents)                          # initialize the score (for each agent)\n",
    "while True:\n",
    "    actions = np.random.randn(num_agents, action_size) # select an action (for each agent)\n",
    "    actions = np.clip(actions, -1, 1)                  # all actions between -1 and 1\n",
    "    env_info = env.step(actions)[brain_name]           # send all actions to tne environment\n",
    "    next_states = env_info.vector_observations         # get next state (for each agent)\n",
    "    rewards = env_info.rewards                         # get reward (for each agent)\n",
    "    dones = env_info.local_done                        # see if episode finished\n",
    "    scores += env_info.rewards                         # update the score (for each agent)\n",
    "    states = next_states                               # roll over states to next time step\n",
    "    if np.any(dones):                                  # exit loop if episode finished\n",
    "        break"
   ]
  },
  {
   "cell_type": "code",
   "execution_count": 11,
   "metadata": {},
   "outputs": [],
   "source": [
    "from collections import deque\n",
    "n_agents = 20\n",
    "\n",
    "\n",
    "def cont_control(n_episodes = 1000,  print_every = 100 ):\n",
    "    \n",
    "    scores = []\n",
    "    scores_deque = deque(maxlen=100)\n",
    "    \n",
    "    for i_episode in range(1,n_episodes+1):\n",
    "        \n",
    "        total_r = np.zeros(n_agents)\n",
    "        #total_rewards = 0\n",
    "        #state = env.reset()\n",
    "        env_info = env.reset(train_mode=True)[brain_name]\n",
    "        agent.reset()\n",
    "        statesA = env_info.vector_observations\n",
    "        #state = env_info.vector_observations[0]\n",
    "        #for t in range(max_t):\n",
    "        while True:\n",
    "            \n",
    "            actionsA = agent.act(statesA)\n",
    "            env_info = env.step(actionsA)[brain_name]\n",
    "            next_statesA = env_info.vector_observations\n",
    "            #next_state, reward, done,_ = env.step(action)\n",
    "            rewardsA = env_info.rewards\n",
    "            donesA = env_info.local_done            \n",
    "            \n",
    "            agent.step(statesA, actionsA, rewardsA, next_statesA, donesA)\n",
    "            statesA = next_statesA\n",
    "            total_r += rewardsA\n",
    "            if np.any(donesA):\n",
    "                break\n",
    "        \n",
    "        scores.append(total_r)\n",
    "        scores_deque.append(total_r)\n",
    "        print('\\r Episode:{} \\t Average Score: {:.2f} \\t Average of last 100 episodes: {:.2f}'\\\n",
    "              .format(i_episode, np.mean(scores), np.mean(scores_deque)), end = \"\")\n",
    "        #print(' Episode:{} \\t Average Score: {}'.format(i_episode, np.mean(scores_deque)))\n",
    "        #if i_episode % print_every == 0:\n",
    "            \n",
    "            #print('\\n Episode:{} \\t Average Score: {:.2f}\\n'.format(i_episode, np.mean(scores_deque)), end='')\n",
    "            \n",
    "        if np.mean(scores_deque) >=30:\n",
    "            torch.save(agent.actor_local.state_dict(), 'actor_model.pth')\n",
    "            torch.save(agent.critic_local.state_dict(), 'critic_model.pth')\n",
    "            print('\\n Environment Solved in {} episodes, Average score:{}'.format( (i_episode - 100), np.mean(scores_deque)), end='' )\n",
    "            #torch.save(agent.actor_local.state_dict(), 'actor_model.pth')\n",
    "            #torch.save(agent.critic_local.state_dict(), 'critic_model.pth')\n",
    "            break\n",
    "            \n",
    "    \n",
    "    return scores\n",
    "\n",
    "                \n",
    "                \n",
    "            \n",
    "            \n",
    "            \n",
    "            \n",
    "    \n",
    "    \n",
    "    \n",
    "    "
   ]
  },
  {
   "cell_type": "code",
   "execution_count": 12,
   "metadata": {
    "scrolled": true
   },
   "outputs": [
    {
     "name": "stderr",
     "output_type": "stream",
     "text": [
      "/opt/conda/lib/python3.6/site-packages/ipykernel_launcher.py:96: UserWarning: torch.nn.utils.clip_grad_norm is now deprecated in favor of torch.nn.utils.clip_grad_norm_.\n"
     ]
    },
    {
     "name": "stdout",
     "output_type": "stream",
     "text": [
      " Episode:105 \t Average Score: 28.73 \t Average of last 100 episodes: 30.13\n",
      " Environment Solved in 5 episodes, Average score:30.127139326605946"
     ]
    }
   ],
   "source": [
    "scores = cont_control()"
   ]
  },
  {
   "cell_type": "markdown",
   "metadata": {},
   "source": [
    "The output above shows the average of last 100 episodes from Episode:5 to Episode:105 which is +30.13"
   ]
  },
  {
   "cell_type": "code",
   "execution_count": 13,
   "metadata": {},
   "outputs": [
    {
     "data": {
      "text/plain": [
       "105"
      ]
     },
     "execution_count": 13,
     "metadata": {},
     "output_type": "execute_result"
    }
   ],
   "source": [
    "len(scores)\n"
   ]
  },
  {
   "cell_type": "markdown",
   "metadata": {},
   "source": [
    "## Plot all 20 agents' scores"
   ]
  },
  {
   "cell_type": "code",
   "execution_count": 15,
   "metadata": {},
   "outputs": [
    {
     "data": {
      "image/png": "[encoded data removed]",
      "text/plain": [
       "<matplotlib.figure.Figure at 0x7f725478dcc0>"
      ]
     },
     "metadata": {
      "needs_background": "light"
     },
     "output_type": "display_data"
    }
   ],
   "source": [
    "import matplotlib.pyplot as plt\n",
    "\n",
    "fig = plt.figure()\n",
    "ax = fig.add_subplot(111)\n",
    "plt.plot( range(1,len(scores)+1), scores)\n",
    "plt.xlabel('# of Episodes')\n",
    "plt.ylabel('Scores')\n",
    "plt.show()"
   ]
  },
  {
   "cell_type": "code",
   "execution_count": null,
   "metadata": {},
   "outputs": [],
   "source": []
  },
  {
   "cell_type": "code",
   "execution_count": 17,
   "metadata": {},
   "outputs": [],
   "source": [
    "score_ar = np.asarray(scores)"
   ]
  },
  {
   "cell_type": "code",
   "execution_count": 18,
   "metadata": {},
   "outputs": [
    {
     "data": {
      "text/plain": [
       "(105, 20)"
      ]
     },
     "execution_count": 18,
     "metadata": {},
     "output_type": "execute_result"
    }
   ],
   "source": [
    "score_ar.shape"
   ]
  },
  {
   "cell_type": "markdown",
   "metadata": {},
   "source": [
    "## Mean of 20 agents' scores"
   ]
  },
  {
   "cell_type": "code",
   "execution_count": 19,
   "metadata": {},
   "outputs": [],
   "source": [
    "score_agent = np.mean(score_ar, axis = 1)"
   ]
  },
  {
   "cell_type": "code",
   "execution_count": 20,
   "metadata": {},
   "outputs": [
    {
     "data": {
      "text/plain": [
       "(105,)"
      ]
     },
     "execution_count": 20,
     "metadata": {},
     "output_type": "execute_result"
    }
   ],
   "source": [
    "score_agent.shape"
   ]
  },
  {
   "cell_type": "code",
   "execution_count": 21,
   "metadata": {},
   "outputs": [
    {
     "data": {
      "image/png": "[encoded data removed]",
      "text/plain": [
       "<matplotlib.figure.Figure at 0x7f725475a550>"
      ]
     },
     "metadata": {
      "needs_background": "light"
     },
     "output_type": "display_data"
    }
   ],
   "source": [
    "fig = plt.figure()\n",
    "ax = fig.add_subplot(111)\n",
    "plt.plot( range(1,len(score_agent)+1), score_agent)\n",
    "plt.xlabel('# of Episodes')\n",
    "plt.ylabel('Scores')\n",
    "plt.show()"
   ]
  },
  {
   "cell_type": "markdown",
   "metadata": {},
   "source": [
    "As we can see the model is quiet stable. The score of +30 was achieved in less than 40 episodes and the algorithm hasn't crashed even after twice the number of episodes."
   ]
  },
  {
   "cell_type": "markdown",
   "metadata": {},
   "source": [
    "### Now evaluate our trained Agent's Actor and Critic Models on the 20-agent environment."
   ]
  },
  {
   "cell_type": "code",
   "execution_count": 25,
   "metadata": {},
   "outputs": [
    {
     "name": "stdout",
     "output_type": "stream",
     "text": [
      "Episode: \t0 \tScore: \t38.55\n",
      "Episode: \t1 \tScore: \t39.07\n",
      "Episode: \t2 \tScore: \t38.53\n"
     ]
    }
   ],
   "source": [
    "for episode in range(3):\n",
    "    env_info = env.reset(train_mode=False)[brain_name]        \n",
    "    states = env_info.vector_observations       \n",
    "    score = np.zeros(n_agents)               \n",
    "    \n",
    "    while True:\n",
    "        actions = agent.act(states, add_noise=False)                    \n",
    "        \n",
    "        env_info = env.step(actions)[brain_name]        \n",
    "        next_states = env_info.vector_observations     \n",
    "        rewards = env_info.rewards       \n",
    "        dones = env_info.local_done\n",
    "        score += rewards\n",
    "        states = next_states\n",
    "\n",
    "        if np.any(dones):                              \n",
    "            break\n",
    "\n",
    "    print('Episode: \\t{} \\tScore: \\t{:.2f}'.format(episode, np.mean(score))) "
   ]
  },
  {
   "cell_type": "markdown",
   "metadata": {},
   "source": [
    "Very impressive and consistent results where in each episode the Agent's score was over 30."
   ]
  },
  {
   "cell_type": "code",
   "execution_count": null,
   "metadata": {},
   "outputs": [],
   "source": []
  }
 ],
 "metadata": {
  "kernelspec": {
   "display_name": "Python 3",
   "language": "python",
   "name": "python3"
  },
  "language_info": {
   "codemirror_mode": {
    "name": "ipython",
    "version": 3
   },
   "file_extension": ".py",
   "mimetype": "text/x-python",
   "name": "python",
   "nbconvert_exporter": "python",
   "pygments_lexer": "ipython3",
   "version": "3.6.3"
  }
 },
 "nbformat": 4,
 "nbformat_minor": 2
}
